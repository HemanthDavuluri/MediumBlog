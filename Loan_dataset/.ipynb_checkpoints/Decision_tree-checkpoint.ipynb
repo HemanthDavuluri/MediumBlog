{
 "cells": [
  {
   "cell_type": "code",
   "execution_count": 4,
   "metadata": {},
   "outputs": [
    {
     "data": {
      "text/plain": [
       "DecisionTreeClassifier(ccp_alpha=0.0, class_weight=None, criterion='entropy',\n",
       "                       max_depth=3, max_features=None, max_leaf_nodes=None,\n",
       "                       min_impurity_decrease=0.0, min_impurity_split=None,\n",
       "                       min_samples_leaf=1, min_samples_split=2,\n",
       "                       min_weight_fraction_leaf=0.0, presort='deprecated',\n",
       "                       random_state=None, splitter='best')"
      ]
     },
     "execution_count": 4,
     "metadata": {},
     "output_type": "execute_result"
    }
   ],
   "source": [
    "#import the required libraries\n",
    "import pandas as pd\n",
    "from sklearn.tree import DecisionTreeClassifier\n",
    "from sklearn import tree\n",
    "from sklearn.model_selection import train_test_split\n",
    "\n",
    "#load the csv data\n",
    "train=pd.read_csv('clean_loan_set.csv')\n",
    "\n",
    "X = train.drop(columns=['Loan_Status','ApplicantIncome'])\n",
    "y = train.Loan_Status\n",
    "\n",
    "#Tree declaration\n",
    "clf = tree.DecisionTreeClassifier(criterion='entropy',max_depth=3)\n",
    "X_train,X_test,y_train,y_test = train_test_split(X,y,test_size=0.3,random_state=42)\n",
    "\n",
    "#Training the model with train set\n",
    "clf.fit(X_train,y_train)\n",
    "\n",
    "\n",
    "#make sure the Graphviz is installed \n",
    "#the magic happens here\n",
    "#the visualization will be saved as a pdf file\n",
    "import graphviz \n",
    "dot_data = tree.export_graphviz(clf, out_file=None,\n",
    "                               feature_names=['Gender','Married','Education','Self_Employed','Credit_History'],\n",
    "                               class_names=['Yes','No'],filled=True,\n",
    "                                rounded=True,  \n",
    "                              special_characters=True) \n",
    "graph = graphviz.Source(dot_data)\n",
    "graph.render(\"Gini\")\n",
    "graph"
   ]
  },
  {
   "cell_type": "code",
   "execution_count": null,
   "metadata": {},
   "outputs": [],
   "source": []
  }
 ],
 "metadata": {
  "kernelspec": {
   "display_name": "Python 3",
   "language": "python",
   "name": "python3"
  },
  "language_info": {
   "codemirror_mode": {
    "name": "ipython",
    "version": 3
   },
   "file_extension": ".py",
   "mimetype": "text/x-python",
   "name": "python",
   "nbconvert_exporter": "python",
   "pygments_lexer": "ipython3",
   "version": "3.7.7"
  }
 },
 "nbformat": 4,
 "nbformat_minor": 4
}
